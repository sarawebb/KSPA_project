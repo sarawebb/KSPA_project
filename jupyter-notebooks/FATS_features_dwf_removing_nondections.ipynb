{
 "cells": [
  {
   "cell_type": "code",
   "execution_count": 2,
   "metadata": {},
   "outputs": [],
   "source": [
    "import numpy as np"
   ]
  },
  {
   "cell_type": "code",
   "execution_count": 36,
   "metadata": {},
   "outputs": [],
   "source": [
    "import FATS \n",
    "import os \n",
    "import math\n",
    "from astropy.table import Table, Column, join \n",
    "from astropy import units as u\n",
    "from astropy.coordinates import SkyCoord\n",
    "from astroquery.vizier import Vizier\n",
    "#np.seterr(divide='ignore', invalid='ignore')\n",
    "from __future__ import division"
   ]
  },
  {
   "cell_type": "code",
   "execution_count": 37,
   "metadata": {},
   "outputs": [],
   "source": [
    "path =\"/Users/swebb/Documents/for_test_michelle/test/\""
   ]
  },
  {
   "cell_type": "code",
   "execution_count": 42,
   "metadata": {},
   "outputs": [
    {
     "name": "stdout",
     "output_type": "stream",
     "text": [
      "DWF162557.862-733111.347_160726\n",
      "([57595.17082153, 57595.17138714, 57595.17195109, 57595.17308919, 57595.17435267, 57595.17491524, 57595.17547297, 57595.17603672, 57595.17659504, 57595.17715042, 57595.17770744, 57595.17826043, 57595.178819, 57595.1793767, 57595.17992852, 57595.18048823, 57595.18104154, 57595.18270765, 57595.18549453, 57595.18605867, 57595.18661521, 57595.18716887, 57595.18772926], [20.836999893188477, 21.003999710083008, 21.273000717163086, 20.923999786376953, 20.964000701904297, 20.881999969482422, 21.040000915527344, 20.889999389648438, 20.804000854492188, 20.937999725341797, 21.448999404907227, 20.81399917602539, 20.860000610351562, 20.702999114990234, 20.76799964904785, 21.139999389648438, 20.704999923706055, 20.871000289916992, 20.966999053955078, 20.954999923706055, 20.756999969482422, 20.884000778198242, 20.895999908447266], [0.09600000083446503, 0.0949999988079071, 0.11500000208616257, 0.09300000220537186, 0.09700000286102295, 0.10100000351667404, 0.09799999743700027, 0.10999999940395355, 0.09700000286102295, 0.10599999874830246, 0.1289999932050705, 0.10400000214576721, 0.10199999809265137, 0.0989999994635582, 0.08900000154972076, 0.11800000071525574, 0.10199999809265137, 0.10999999940395355, 0.10400000214576721, 0.11500000208616257, 0.10000000149011612, 0.10100000351667404, 0.11299999803304672])\n",
      "-------------------------------------\n",
      "-------------------------------------\n",
      "<SkyCoord (ICRS): (ra, dec) in deg\n",
      "    (246.49109167, -73.51981861)>\n",
      "-------------------------------------\n",
      "detect len: 23\n",
      "number of points: 30\n",
      "DWF162557.322-724808.424_160726\n",
      "([57595.17082153, 57595.17195109, 57595.17252141, 57595.17308919, 57595.17435267, 57595.17491524, 57595.17547297, 57595.17603672, 57595.17659504, 57595.17715042, 57595.17770744, 57595.17826043, 57595.178819, 57595.1793767, 57595.17992852, 57595.18048823, 57595.18104154, 57595.18159692, 57595.18215122, 57595.18270765, 57595.18326585, 57595.18382406, 57595.18437732, 57595.18493814, 57595.18549453, 57595.18605867, 57595.18661521, 57595.18716887, 57595.18772926], [19.965999603271484, 20.11400032043457, 20.22800064086914, 19.91200065612793, 19.70400047302246, 19.982999801635742, 20.038000106811523, 19.99799919128418, 19.95199966430664, 19.857999801635742, 20.069000244140625, 19.947999954223633, 20.020000457763672, 20.073999404907227, 20.187999725341797, 20.047000885009766, 20.02199935913086, 19.79800033569336, 20.233999252319336, 19.847999572753906, 20.034000396728516, 20.18000030517578, 20.166000366210938, 20.386999130249023, 20.04199981689453, 20.100000381469727, 19.863000869750977, 19.91699981689453, 20.03700065612793], [0.057999998331069946, 0.05700000002980232, 0.05900000035762787, 0.05700000002980232, 0.054999999701976776, 0.05999999865889549, 0.05900000035762787, 0.06199999898672104, 0.05999999865889549, 0.05999999865889549, 0.06800000369548798, 0.06400000303983688, 0.06700000166893005, 0.06300000101327896, 0.07199999690055847, 0.06700000166893005, 0.07000000029802322, 0.06599999964237213, 0.08500000089406967, 0.07000000029802322, 0.07599999755620956, 0.08900000154972076, 0.08100000023841858, 0.09200000017881393, 0.07500000298023224, 0.07100000232458115, 0.06499999761581421, 0.06599999964237213, 0.06400000303983688])\n"
     ]
    },
    {
     "name": "stderr",
     "output_type": "stream",
     "text": [
      "/anaconda3/envs/py2.7/lib/python2.7/site-packages/astroquery/utils/commons.py:171: UserWarning: Coordinate string is being interpreted as an ICRS coordinate provided in degrees.\n",
      "  warnings.warn(\"Coordinate string is being interpreted as an \"\n"
     ]
    },
    {
     "name": "stdout",
     "output_type": "stream",
     "text": [
      "-------------------------------------\n",
      "-------------------------------------\n",
      "<SkyCoord (ICRS): (ra, dec) in deg\n",
      "    (246.48884167, -72.80234)>\n",
      "-------------------------------------\n",
      "detect len: 29\n",
      "number of points: 30\n",
      "DWF162557.058-721038.841_160726\n",
      "DWF162557.077-734117.867_160726\n",
      "([57595.17082153, 57595.17138714, 57595.17195109, 57595.17308919, 57595.17435267, 57595.17491524, 57595.17547297, 57595.17603672, 57595.17659504, 57595.17715042, 57595.17770744, 57595.17826043, 57595.178819, 57595.1793767, 57595.17992852, 57595.18048823, 57595.18104154, 57595.18159692, 57595.18215122, 57595.18270765, 57595.18326585, 57595.18549453, 57595.18605867, 57595.18661521, 57595.18716887, 57595.18772926], [18.363000869750977, 18.44700050354004, 18.32200050354004, 18.136999130249023, 18.417999267578125, 18.259000778198242, 18.349000930786133, 18.23900032043457, 18.2810001373291, 18.235000610351562, 18.298999786376953, 18.336000442504883, 18.312000274658203, 18.319000244140625, 18.406999588012695, 18.326000213623047, 18.29199981689453, 18.393999099731445, 18.43400001525879, 18.33099937438965, 18.34000015258789, 18.375, 18.243000030517578, 18.316999435424805, 18.39699935913086, 18.36199951171875], [0.02800000086426735, 0.026000000536441803, 0.027000000700354576, 0.02800000086426735, 0.03099999949336052, 0.028999999165534973, 0.03200000151991844, 0.029999999329447746, 0.03200000151991844, 0.03200000151991844, 0.03200000151991844, 0.03099999949336052, 0.03200000151991844, 0.029999999329447746, 0.032999999821186066, 0.03400000184774399, 0.03200000151991844, 0.03200000151991844, 0.03700000047683716, 0.03500000014901161, 0.03400000184774399, 0.035999998450279236, 0.03400000184774399, 0.035999998450279236, 0.03500000014901161, 0.03799999877810478])\n"
     ]
    },
    {
     "name": "stderr",
     "output_type": "stream",
     "text": [
      "/anaconda3/envs/py2.7/lib/python2.7/site-packages/astroquery/utils/commons.py:171: UserWarning: Coordinate string is being interpreted as an ICRS coordinate provided in degrees.\n",
      "  warnings.warn(\"Coordinate string is being interpreted as an \"\n"
     ]
    },
    {
     "name": "stdout",
     "output_type": "stream",
     "text": [
      "-------------------------------------\n",
      "-------------------------------------\n",
      "<SkyCoord (ICRS): (ra, dec) in deg\n",
      "    (246.48782083, -73.68829639)>\n",
      "-------------------------------------\n",
      "detect len: 26\n",
      "number of points: 30\n",
      "DWF162557.156-723125.779_160726\n",
      "([57595.17082153, 57595.17138714, 57595.17195109, 57595.17252141, 57595.17308919, 57595.17435267, 57595.17491524, 57595.17547297, 57595.17603672, 57595.17659504, 57595.17715042, 57595.17770744, 57595.17826043, 57595.178819, 57595.1793767, 57595.17992852, 57595.18048823, 57595.18104154, 57595.18159692, 57595.18215122, 57595.18270765, 57595.18326585, 57595.18382406, 57595.18437732, 57595.18493814, 57595.18549453, 57595.18605867, 57595.18661521, 57595.18716887, 57595.18772926], [19.55500030517578, 19.652999877929688, 19.750999450683594, 19.70199966430664, 19.618999481201172, 19.6299991607666, 19.625999450683594, 19.545000076293945, 19.621999740600586, 19.665000915527344, 19.733999252319336, 19.61199951171875, 19.635000228881836, 19.679000854492188, 19.576000213623047, 19.6299991607666, 19.676000595092773, 19.711999893188477, 19.66699981689453, 19.632999420166016, 19.697999954223633, 19.614999771118164, 19.729999542236328, 19.68899917602539, 19.7189998626709, 19.676000595092773, 19.634000778198242, 19.69099998474121, 19.510000228881836, 19.655000686645508], [0.03700000047683716, 0.035999998450279236, 0.03799999877810478, 0.03400000184774399, 0.032999999821186066, 0.04100000113248825, 0.03200000151991844, 0.03400000184774399, 0.03799999877810478, 0.03999999910593033, 0.039000000804662704, 0.0430000014603138, 0.041999999433755875, 0.039000000804662704, 0.039000000804662704, 0.04500000178813934, 0.039000000804662704, 0.04100000113248825, 0.04600000008940697, 0.05299999937415123, 0.04399999976158142, 0.052000001072883606, 0.05000000074505806, 0.06300000101327896, 0.057999998331069946, 0.04500000178813934, 0.04699999839067459, 0.04500000178813934, 0.0430000014603138, 0.04399999976158142])\n",
      "-------------------------------------\n",
      "-------------------------------------\n",
      "<SkyCoord (ICRS): (ra, dec) in deg\n",
      "    (246.48815, -72.5238275)>\n",
      "-------------------------------------\n",
      "detect len: 30\n",
      "number of points: 30\n",
      "DWF162557.627-721027.537_160726\n",
      "([57595.17308919], [19.158000946044922], [0.03700000047683716])\n",
      "Not enough data points\n",
      "DWF162557.925-721118.108_160726\n",
      "([57595.17082153, 57595.17138714, 57595.17308919, 57595.17435267, 57595.17491524, 57595.17547297, 57595.17603672, 57595.17659504, 57595.17715042, 57595.17770744, 57595.17826043, 57595.178819, 57595.1793767, 57595.17992852, 57595.18048823, 57595.18104154, 57595.18159692, 57595.18215122, 57595.18270765, 57595.18326585, 57595.18493814, 57595.18549453, 57595.18605867, 57595.18661521, 57595.18716887, 57595.18772926], [21.075000762939453, 21.070999145507812, 21.018999099731445, 20.729999542236328, 20.531999588012695, 20.554000854492188, 20.7549991607666, 20.68400001525879, 20.7549991607666, 20.923999786376953, 20.78700065612793, 20.606000900268555, 20.517000198364258, 20.851999282836914, 20.658000946044922, 20.60300064086914, 20.9060001373291, 21.780000686645508, 20.893999099731445, 21.277999877929688, 21.611000061035156, 20.85300064086914, 20.863000869750977, 20.541000366210938, 20.472000122070312, 20.593000411987305], [0.06599999964237213, 0.07199999690055847, 0.0729999989271164, 0.06300000101327896, 0.050999999046325684, 0.0560000017285347, 0.057999998331069946, 0.057999998331069946, 0.06300000101327896, 0.0689999982714653, 0.06400000303983688, 0.05700000002980232, 0.0560000017285347, 0.06400000303983688, 0.061000000685453415, 0.05999999865889549, 0.07000000029802322, 0.10100000351667404, 0.07000000029802322, 0.0820000022649765, 0.10000000149011612, 0.07199999690055847, 0.07100000232458115, 0.06199999898672104, 0.057999998331069946, 0.06499999761581421])\n"
     ]
    },
    {
     "name": "stderr",
     "output_type": "stream",
     "text": [
      "/anaconda3/envs/py2.7/lib/python2.7/site-packages/astroquery/utils/commons.py:171: UserWarning: Coordinate string is being interpreted as an ICRS coordinate provided in degrees.\n",
      "  warnings.warn(\"Coordinate string is being interpreted as an \"\n",
      "/anaconda3/envs/py2.7/lib/python2.7/site-packages/astroquery/utils/commons.py:171: UserWarning: Coordinate string is being interpreted as an ICRS coordinate provided in degrees.\n",
      "  warnings.warn(\"Coordinate string is being interpreted as an \"\n"
     ]
    },
    {
     "name": "stdout",
     "output_type": "stream",
     "text": [
      "-------------------------------------\n",
      "-------------------------------------\n",
      "<SkyCoord (ICRS): (ra, dec) in deg\n",
      "    (246.49135417, -72.18836333)>\n",
      "-------------------------------------\n",
      "detect len: 26\n",
      "number of points: 30\n",
      "DWF162557.102-724805.761_160726\n",
      "DWF162557.562-722202.865_160726\n",
      "([57595.17082153, 57595.17138714, 57595.17195109, 57595.17308919, 57595.17435267, 57595.17491524, 57595.17547297, 57595.17603672, 57595.17659504, 57595.17715042, 57595.17770744, 57595.17826043, 57595.178819, 57595.1793767, 57595.17992852, 57595.18048823, 57595.18104154, 57595.18159692, 57595.18215122, 57595.18270765, 57595.18326585, 57595.18549453, 57595.18605867, 57595.18661521, 57595.18716887, 57595.18772926], [20.461000442504883, 20.611000061035156, 20.641000747680664, 20.819000244140625, 20.590999603271484, 20.408000946044922, 20.444000244140625, 20.509000778198242, 20.42799949645996, 21.06100082397461, 20.672000885009766, 20.760000228881836, 20.57900047302246, 20.69700050354004, 20.790000915527344, 20.545000076293945, 20.766000747680664, 20.67300033569336, 21.413000106811523, 20.863000869750977, 21.525999069213867, 20.898000717163086, 20.71299934387207, 20.743999481201172, 20.86199951171875, 20.575000762939453], [0.0820000022649765, 0.09200000017881393, 0.08500000089406967, 0.09300000220537186, 0.09000000357627869, 0.0820000022649765, 0.08799999952316284, 0.08299999684095383, 0.08699999749660492, 0.10999999940395355, 0.09300000220537186, 0.10000000149011612, 0.0949999988079071, 0.1080000028014183, 0.0860000029206276, 0.09399999678134918, 0.10499999672174454, 0.0949999988079071, 0.1120000034570694, 0.11100000143051147, 0.11900000274181366, 0.11299999803304672, 0.0989999994635582, 0.11100000143051147, 0.10999999940395355, 0.10599999874830246])\n"
     ]
    },
    {
     "name": "stderr",
     "output_type": "stream",
     "text": [
      "/anaconda3/envs/py2.7/lib/python2.7/site-packages/astroquery/utils/commons.py:171: UserWarning: Coordinate string is being interpreted as an ICRS coordinate provided in degrees.\n",
      "  warnings.warn(\"Coordinate string is being interpreted as an \"\n"
     ]
    },
    {
     "name": "stdout",
     "output_type": "stream",
     "text": [
      "-------------------------------------\n",
      "-------------------------------------\n",
      "<SkyCoord (ICRS): (ra, dec) in deg\n",
      "    (246.48984167, -72.3674625)>\n",
      "-------------------------------------\n",
      "detect len: 26\n",
      "number of points: 30\n",
      "DWF162557.286-721729.476_160726\n",
      "DWF162557.436-720915.653_160726\n",
      "DWF162557.177-732203.376_160726\n",
      "([57595.17138714, 57595.17195109, 57595.17308919, 57595.17435267, 57595.17491524, 57595.17547297, 57595.17603672, 57595.17659504, 57595.17715042, 57595.17770744, 57595.1793767, 57595.18048823, 57595.18772926], [21.073999404907227, 21.43400001525879, 21.277999877929688, 21.37299919128418, 21.441999435424805, 21.232999801635742, 21.652000427246094, 21.450000762939453, 21.6200008392334, 21.58300018310547, 21.493000030517578, 21.871000289916992, 21.259000778198242], [0.10700000077486038, 0.11900000274181366, 0.10999999940395355, 0.12099999934434891, 0.12999999523162842, 0.11699999868869781, 0.15700000524520874, 0.12300000339746475, 0.1289999932050705, 0.12300000339746475, 0.15199999511241913, 0.13199999928474426, 0.13099999725818634])\n",
      "-------------------------------------\n",
      "-------------------------------------\n",
      "<SkyCoord (ICRS): (ra, dec) in deg\n",
      "    (246.4882375, -73.36760444)>\n",
      "-------------------------------------\n",
      "detect len: 13\n",
      "number of points: 30\n",
      "DWF162557.743-733238.431_160726\n",
      "([57595.17082153, 57595.17138714, 57595.17195109, 57595.17252141, 57595.17308919, 57595.17435267, 57595.17491524, 57595.17547297, 57595.17603672, 57595.17659504, 57595.17715042, 57595.17770744, 57595.17826043, 57595.178819, 57595.1793767, 57595.17992852, 57595.18048823, 57595.18104154, 57595.18159692, 57595.18270765, 57595.18549453, 57595.18605867, 57595.18661521, 57595.18716887, 57595.18772926], [20.99799919128418, 21.069000244140625, 21.082000732421875, 20.95599937438965, 21.156999588012695, 21.104999542236328, 20.972999572753906, 21.1299991607666, 20.863000869750977, 20.974000930786133, 21.108999252319336, 21.385000228881836, 21.395000457763672, 20.83799934387207, 20.93600082397461, 21.111000061035156, 21.26799964904785, 21.433000564575195, 21.327999114990234, 21.4950008392334, 21.17099952697754, 21.243000030517578, 20.888999938964844, 21.170000076293945, 20.843000411987305], [0.0949999988079071, 0.0860000029206276, 0.0989999994635582, 0.08500000089406967, 0.07599999755620956, 0.11599999666213989, 0.07500000298023224, 0.09799999743700027, 0.09600000083446503, 0.09200000017881393, 0.11299999803304672, 0.1289999932050705, 0.11999999731779099, 0.09799999743700027, 0.0989999994635582, 0.11599999666213989, 0.11999999731779099, 0.15399999916553497, 0.12600000202655792, 0.1379999965429306, 0.12800000607967377, 0.13600000739097595, 0.11299999803304672, 0.12600000202655792, 0.10999999940395355])\n"
     ]
    },
    {
     "name": "stderr",
     "output_type": "stream",
     "text": [
      "/anaconda3/envs/py2.7/lib/python2.7/site-packages/astroquery/utils/commons.py:171: UserWarning: Coordinate string is being interpreted as an ICRS coordinate provided in degrees.\n",
      "  warnings.warn(\"Coordinate string is being interpreted as an \"\n",
      "/anaconda3/envs/py2.7/lib/python2.7/site-packages/astroquery/utils/commons.py:171: UserWarning: Coordinate string is being interpreted as an ICRS coordinate provided in degrees.\n",
      "  warnings.warn(\"Coordinate string is being interpreted as an \"\n",
      "/anaconda3/envs/py2.7/lib/python2.7/site-packages/ipykernel_launcher.py:172: UserWarning: Warning: converting a masked element to nan.\n",
      "/anaconda3/envs/py2.7/lib/python2.7/site-packages/ipykernel_launcher.py:177: UserWarning: Warning: converting a masked element to nan.\n"
     ]
    },
    {
     "name": "stdout",
     "output_type": "stream",
     "text": [
      "-------------------------------------\n",
      "-------------------------------------\n",
      "<SkyCoord (ICRS): (ra, dec) in deg\n",
      "    (246.49059583, -73.54400861)>\n",
      "-------------------------------------\n",
      "detect len: 25\n",
      "number of points: 30\n",
      "DWF162557.945-720831.629_160726\n",
      "DWF162557.966-733210.325_160726\n",
      "DWF162557.003-723305.774_160726\n",
      "([57595.17082153, 57595.17138714, 57595.17195109, 57595.17252141, 57595.17308919, 57595.17435267, 57595.17491524, 57595.17547297, 57595.17603672, 57595.17659504, 57595.17715042, 57595.17770744, 57595.17826043, 57595.178819, 57595.1793767, 57595.17992852, 57595.18048823, 57595.18104154, 57595.18159692, 57595.18215122, 57595.18270765, 57595.18326585, 57595.18382406, 57595.18437732, 57595.18493814, 57595.18549453, 57595.18605867, 57595.18661521, 57595.18716887, 57595.18772926], [19.663000106811523, 19.55900001525879, 19.670000076293945, 19.64299964904785, 19.54400062561035, 19.611000061035156, 19.617000579833984, 19.50200080871582, 19.56100082397461, 19.54400062561035, 19.591999053955078, 19.604000091552734, 19.542999267578125, 19.660999298095703, 19.547000885009766, 19.599000930786133, 19.676000595092773, 19.638999938964844, 19.57699966430664, 19.632999420166016, 19.643999099731445, 19.60099983215332, 19.843000411987305, 19.672000885009766, 19.64900016784668, 19.615999221801758, 19.514999389648438, 19.542999267578125, 19.538999557495117, 19.590999603271484], [0.035999998450279236, 0.032999999821186066, 0.03099999949336052, 0.029999999329447746, 0.03400000184774399, 0.039000000804662704, 0.03200000151991844, 0.03400000184774399, 0.03999999910593033, 0.035999998450279236, 0.03500000014901161, 0.03700000047683716, 0.03700000047683716, 0.03799999877810478, 0.03200000151991844, 0.03799999877810478, 0.03500000014901161, 0.0430000014603138, 0.03999999910593033, 0.04600000008940697, 0.04100000113248825, 0.04399999976158142, 0.04899999871850014, 0.0560000017285347, 0.054999999701976776, 0.03799999877810478, 0.041999999433755875, 0.03500000014901161, 0.03999999910593033, 0.041999999433755875])\n",
      "-------------------------------------\n",
      "-------------------------------------\n",
      "<SkyCoord (ICRS): (ra, dec) in deg\n",
      "    (246.4875125, -72.55160389)>\n",
      "-------------------------------------\n"
     ]
    },
    {
     "name": "stderr",
     "output_type": "stream",
     "text": [
      "/anaconda3/envs/py2.7/lib/python2.7/site-packages/astroquery/utils/commons.py:171: UserWarning: Coordinate string is being interpreted as an ICRS coordinate provided in degrees.\n",
      "  warnings.warn(\"Coordinate string is being interpreted as an \"\n",
      "/anaconda3/envs/py2.7/lib/python2.7/site-packages/astroquery/utils/commons.py:171: UserWarning: Coordinate string is being interpreted as an ICRS coordinate provided in degrees.\n",
      "  warnings.warn(\"Coordinate string is being interpreted as an \"\n"
     ]
    },
    {
     "name": "stdout",
     "output_type": "stream",
     "text": [
      "detect len: 30\n",
      "number of points: 30\n",
      "DWF162557.048-721110.730_160726\n",
      "([57595.17082153, 57595.17308919, 57595.17435267, 57595.17547297, 57595.17603672, 57595.17659504, 57595.17715042, 57595.17770744, 57595.17826043, 57595.178819, 57595.1793767, 57595.17992852, 57595.18048823, 57595.18104154, 57595.18159692, 57595.18215122, 57595.18326585, 57595.18549453, 57595.18661521, 57595.18716887], [18.663999557495117, 19.03700065612793, 18.207000732421875, 18.226999282836914, 18.312999725341797, 18.14699935913086, 18.158000946044922, 18.243999481201172, 18.270999908447266, 18.17099952697754, 18.118000030517578, 18.284000396728516, 18.072999954223633, 18.16200065612793, 18.267000198364258, 18.32699966430664, 18.142000198364258, 18.343000411987305, 18.211000442504883, 18.156999588012695], [0.017000000923871994, 0.024000000208616257, 0.017999999225139618, 0.017999999225139618, 0.01899999938905239, 0.01600000075995922, 0.017000000923871994, 0.017999999225139618, 0.01899999938905239, 0.017000000923871994, 0.017999999225139618, 0.01899999938905239, 0.017000000923871994, 0.017999999225139618, 0.019999999552965164, 0.020999999716877937, 0.01899999938905239, 0.023000000044703484, 0.023000000044703484, 0.02199999988079071])\n",
      "-------------------------------------\n",
      "-------------------------------------\n",
      "<SkyCoord (ICRS): (ra, dec) in deg\n",
      "    (246.4877, -72.18631389)>\n",
      "-------------------------------------\n",
      "detect len: 20\n",
      "number of points: 30\n",
      "DWF162557.151-731424.145_160726\n"
     ]
    },
    {
     "name": "stderr",
     "output_type": "stream",
     "text": [
      "/anaconda3/envs/py2.7/lib/python2.7/site-packages/astroquery/utils/commons.py:171: UserWarning: Coordinate string is being interpreted as an ICRS coordinate provided in degrees.\n",
      "  warnings.warn(\"Coordinate string is being interpreted as an \"\n"
     ]
    }
   ],
   "source": [
    "lc_with_only_zeros = []\n",
    "used_lcs = []\n",
    "filenames = []\n",
    "\n",
    "Autocor_length = []\n",
    "Beyond1Std = []\n",
    "CAR_sigma = []\n",
    "CAR_mean = []\n",
    "CAR_tau =[]\n",
    "Con =[]\n",
    "Eta_e = []\n",
    "LinearTrend = []\n",
    "MaxSlope =[]\n",
    "Mean = []\n",
    "Meanvariance = []\n",
    "MedianAbsDev =[]\n",
    "MedianBRP =[]\n",
    "PairSlopeTrend =[]\n",
    "PercentAmplitude =[]\n",
    "Q31 =[]\n",
    "Rcs =[]\n",
    "Skew =[]\n",
    "SlottedA_length =[]\n",
    "SmallKurtosis =[]\n",
    "Std = []\n",
    "StetsonK_AC = []\n",
    "Amplitudes = []\n",
    "VariabilityIndex = []\n",
    "pmra = []\n",
    "pmde = []\n",
    "gaia_G_RP = []\n",
    "gaia_BP_G = []\n",
    "detection_fraction = []\n",
    "\n",
    "\n",
    "def RAsex_to_RAdec(fRAsex):\n",
    "    frah = float(fRAsex[0:2])\n",
    "    #print(frah)\n",
    "    fram = float(fRAsex[2:4])\n",
    "    #print(fram)\n",
    "    fras = float(fRAsex[4:])\n",
    "    #print(fras)\n",
    "    #fRAdec = (frah*3600.0+fram*60.0+fras)/3600.0\n",
    "    fRAdec = ((1/1 * frah) + (1/60 *fram) + (1/3600 *fras))* (360/24)\n",
    "    return fRAdec\n",
    "\n",
    "def DEsex_to_DEdec(fDEsex):\n",
    "    fded = float(fDEsex[0:3])\n",
    "    print(fded)\n",
    "    fdem = float(fDEsex[3:5])\n",
    "    print(fdem)\n",
    "    fdes = float(fDEsex[5:])\n",
    "    print(fdes)\n",
    "    fDEdec = (math.fabs(fded)*3600.0+fdem*60.0+fdes)/3600.0\n",
    "    if fDEsex[0] == '-':\n",
    "        fDEdec = fDEdec * -1\n",
    "    return fDEdec\n",
    "\n",
    "for filename in os.listdir(path):\n",
    "    #print i\n",
    "    if filename.startswith('DWF'):\n",
    "        print filename\n",
    "        #print '-------'\n",
    "        #print path + i \n",
    "        #print '-------'\n",
    "        try: \n",
    "            mjd, mag, emag, uplim = np.loadtxt(path + filename, unpack = True, skiprows=1)\n",
    "            #print mjd\n",
    "        except: \n",
    "            print filename\n",
    "        #mjd = np.loadtxt(path+i, usecols =1, skiprows =1)\n",
    "        sum_mag = np.sum(mag)\n",
    "        #print(sum_mag)\n",
    "        if sum_mag == 0: \n",
    "            lc_with_only_zeros.append(filename)\n",
    "        elif sum_mag != 0: \n",
    "            used_lcs.append(filename)\n",
    "            \n",
    "                    \n",
    "            #print(flux)\n",
    "            \n",
    "            \n",
    "            ''' Remove the non detections '''\n",
    "            clean_mjd = []\n",
    "            clean_mag = []\n",
    "            clean_emag = []\n",
    "            \n",
    "            for l,m,n in zip(mjd,mag, emag):\n",
    "                if m != 0:\n",
    "                    if m < 25: \n",
    "                        clean_mjd.append(l)\n",
    "                        clean_mag.append(m)\n",
    "                        clean_emag.append(n)\n",
    "                elif m == 0:\n",
    "                    pass \n",
    "            \n",
    "            print(clean_mjd, clean_mag, clean_emag)\n",
    "            \n",
    "            if len(clean_mjd) > 3 :\n",
    "                \n",
    "                lc = np.array([clean_mag, clean_mjd, clean_emag])\n",
    "                a=FATS.FeatureSpace(featureList=['Autocor_length', 'Beyond1Std', 'CAR_sigma', 'CAR_mean', \n",
    "                                             'CAR_tau', 'Con', 'Eta_e', 'LinearTrend', 'MaxSlope', \n",
    "                                             'Mean', 'Meanvariance', 'MedianAbsDev', 'MedianBRP', \n",
    "                                             'PairSlopeTrend', 'PercentAmplitude', 'Q31', 'Rcs', 'Skew',\n",
    "                                             'SlottedA_length', 'SmallKurtosis', 'Std',\n",
    "                                             'StetsonK_AC' ], Data=['magnitude','time', 'error'])\n",
    "                a=a.calculateFeature(lc)\n",
    "                results = a.result(method='dict')\n",
    "                #print results\n",
    "                filenames.append(filename)\n",
    "                Autocor_length.append(results['Autocor_length'])\n",
    "                Beyond1Std.append(results['Beyond1Std'])\n",
    "                CAR_sigma.append(results['CAR_sigma'])\n",
    "                CAR_mean.append(results['CAR_mean'])\n",
    "                CAR_tau.append(results['CAR_tau'])\n",
    "                Con.append(results['Con'])\n",
    "                Eta_e.append(results['Eta_e'])\n",
    "                LinearTrend.append(results['LinearTrend'])\n",
    "                MaxSlope.append(results['MaxSlope'])\n",
    "                Mean.append(results['Mean'])\n",
    "                Meanvariance.append(results['Meanvariance'])\n",
    "                MedianAbsDev.append(results['MedianAbsDev'])\n",
    "                MedianBRP.append(results['MedianBRP'])\n",
    "                PairSlopeTrend.append(results['PairSlopeTrend'])\n",
    "                PercentAmplitude.append(results['PercentAmplitude'])\n",
    "                Q31.append(results['Q31'])\n",
    "                Rcs.append(results['Rcs'])\n",
    "                Skew.append(results['Skew'])\n",
    "                SlottedA_length.append(results['SlottedA_length'])\n",
    "                SmallKurtosis.append(results['SmallKurtosis'])\n",
    "                Std.append(results['Std'])\n",
    "                StetsonK_AC.append(results['StetsonK_AC'])\n",
    "            \n",
    "            \n",
    "            \n",
    "                # Find Amplitude because FATS is unable to \n",
    "                N = len(mag)\n",
    "                sorted_mag = np.sort(mag)\n",
    "                amp = (np.median(sorted_mag[-int(math.ceil(0.05*N)):]) - np.median(sorted_mag[0:int(math.ceil(0.05*N))])) / 2\n",
    "                #print amp\n",
    "                Amplitudes.append(amp)\n",
    "                \n",
    "                # Find VariabilityIndex beacuase FATS has it removed \n",
    "                N = len(mag)\n",
    "                sigma2 = np.var(mag)\n",
    "                VarIndex = 1/((N-1)*sigma2)*np.sum(np.power(mag[1:]-mag[:-1], 2))\n",
    "                VariabilityIndex.append(VarIndex)\n",
    "                \n",
    "                # Find GAIA colors \n",
    "                    #First get the RA and DEC seperated \n",
    "                print('-------------------------------------')\n",
    "                RA_h = filename[3:5]\n",
    "                RA_m = filename[5:7]\n",
    "                RA_s = filename[7:13]\n",
    "                DEC_d = filename[13:16]\n",
    "                DEC_m = filename[16:18]\n",
    "                DEC_s = filename[18:24]\n",
    "                print('-------------------------------------')\n",
    "                \n",
    "                coords = SkyCoord(RA_h + ' '+RA_m + ' '+RA_s +' '+str(DEC_d)+' '+ DEC_m +' '+ DEC_s + ' ', unit=(u.hourangle, u.deg))\n",
    "                print(coords)\n",
    "                RA = coords.ra.degree\n",
    "                DEC = coords.dec.degree\n",
    "                \n",
    "                print('-------------------------------------')\n",
    "                \n",
    "                GAIA_DR2 = 'I/345'\n",
    "                result = Vizier.query_region(str(RA)+' '+str(DEC), radius=\"0d0m2s\", catalog=GAIA_DR2)\n",
    "                #print(result) \n",
    "                try: \n",
    "                    pmra.append(float(result[0]['pmRA']))\n",
    "                except: \n",
    "                    pmra.append(0)\n",
    "                \n",
    "                try: \n",
    "                    pmde.append(float(result[0]['pmDE']))\n",
    "                except: \n",
    "                    pmde.append(0)\n",
    "                    \n",
    "                try: \n",
    "                    gaia_G_RP.append(float(result[0]['G-RP']))\n",
    "                except:\n",
    "                    gaia_G_RP.append(0)\n",
    "                    \n",
    "                try: \n",
    "                    gaia_BP_G.append(float(result[0]['BP-G']))\n",
    "                except:\n",
    "                    gaia_BP_G.append(0)\n",
    "                \n",
    "                    \n",
    "                # find fraction of detections to non detections \n",
    "                detects = 0\n",
    "                non_detects = 0\n",
    "                \n",
    "                for mags in mag: \n",
    "                    if mags != 0: \n",
    "                        detects += 1\n",
    "                    else:\n",
    "                        pass\n",
    "                for uplims in uplim:\n",
    "                    if uplims != 0:\n",
    "                        non_detects += 1\n",
    "                    else:\n",
    "                        pass \n",
    "                print('detect len: ' + str(detects))\n",
    "                print('number of points: '+ str(len(mag)))\n",
    "                \n",
    "                \n",
    "                detection_fraction.append(detects/len(mag))\n",
    "                \n",
    "                \n",
    "                \n",
    "                \n",
    "                    \n",
    "            else: \n",
    "                print('Not enough data points')\n",
    "                \n",
    "            \n",
    "            \n",
    "            \n"
   ]
  },
  {
   "cell_type": "code",
   "execution_count": 41,
   "metadata": {},
   "outputs": [
    {
     "name": "stdout",
     "output_type": "stream",
     "text": [
      "Not used\n",
      "7\n",
      "Used\n",
      "11\n",
      " detection_fraction\n",
      "-------------------\n",
      " 0.7666666666666667\n",
      " 0.9666666666666667\n",
      " 0.8666666666666667\n",
      "                1.0\n",
      " 0.8666666666666667\n",
      " 0.8666666666666667\n",
      "0.43333333333333335\n",
      " 0.8333333333333334\n",
      "                1.0\n",
      " 0.6666666666666666\n"
     ]
    }
   ],
   "source": [
    "print 'Not used'\n",
    "print len(lc_with_only_zeros) \n",
    "print 'Used'\n",
    "print len(used_lcs)\n",
    "\n",
    "feature_table = Table()\n",
    "feature_table['LC_name'] = filenames\n",
    "feature_table['Autocor_length'] = Autocor_length\n",
    "feature_table['Beyond1Std'] = Beyond1Std\n",
    "feature_table['CAR_sigma'] = CAR_sigma\n",
    "feature_table['CAR_mean'] = CAR_mean\n",
    "feature_table['CAR_tau'] = CAR_tau\n",
    "feature_table['Con'] = Con\n",
    "feature_table['Eta_e'] = Eta_e\n",
    "feature_table['LinearTrend'] = LinearTrend\n",
    "feature_table['MaxSlope'] = MaxSlope\n",
    "feature_table['Mean'] =Mean\n",
    "feature_table['Meanvariance'] =Meanvariance\n",
    "feature_table['MedianAbsDev'] =MedianAbsDev\n",
    "feature_table['MedianBRP'] =MedianBRP\n",
    "feature_table['PairSlopeTrend'] =PairSlopeTrend\n",
    "feature_table['PercentAmplitude'] =PercentAmplitude\n",
    "feature_table['Q31'] =Q31\n",
    "feature_table['Rcs'] =Rcs\n",
    "feature_table['Skew'] =Skew\n",
    "feature_table['SlottedA_length'] =SlottedA_length\n",
    "feature_table['SmallKurtosis'] =SmallKurtosis\n",
    "feature_table['Std'] =Std\n",
    "feature_table['StetsonK_AC'] =StetsonK_AC\n",
    "feature_table['Amplitudes'] = Amplitudes\n",
    "feature_table['VariabilityIndex'] = VariabilityIndex\n",
    "feature_table['pmra'] = pmra \n",
    "feature_table['pmde'] = pmde \n",
    "feature_table['gaia_G_RP'] = gaia_G_RP\n",
    "feature_table['gaia_BP_G'] = gaia_BP_G\n",
    "feature_table['detection_fraction'] = detection_fraction\n",
    "\n",
    "print feature_table['detection_fraction']\n",
    "output = '/Users/swebb/Documents/for_test_michelle/test.ascii'\n",
    "feature_table.write(output, format = 'ascii', overwrite = True)"
   ]
  },
  {
   "cell_type": "code",
   "execution_count": 27,
   "metadata": {},
   "outputs": [
    {
     "data": {
      "text/plain": [
       "240.0"
      ]
     },
     "execution_count": 27,
     "metadata": {},
     "output_type": "execute_result"
    }
   ],
   "source": [
    "filename = 'DWF164557.862'\n",
    "RAsex_to_RAdec(filename[3:13])"
   ]
  },
  {
   "cell_type": "code",
   "execution_count": 40,
   "metadata": {},
   "outputs": [],
   "source": [
    "def RAsex_to_RAdec(fRAsex):\n",
    "    frah = float(fRAsex[0:2])\n",
    "    #print(frah)\n",
    "    fram = float(fRAsex[2:4])\n",
    "    #print(fram)\n",
    "    fras = float(fRAsex[4:])\n",
    "    #print(fras)\n",
    "    #fRAdec = (frah*3600.0+fram*60.0+fras)/3600.0\n",
    "    fRAdec = ((1/1 * 16) + (1/60 *5) + (1/3600 *57.867))* (360/24)\n",
    "    return fRAdec"
   ]
  },
  {
   "cell_type": "code",
   "execution_count": 41,
   "metadata": {},
   "outputs": [
    {
     "data": {
      "text/plain": [
       "240.0"
      ]
     },
     "execution_count": 41,
     "metadata": {},
     "output_type": "execute_result"
    }
   ],
   "source": [
    "filename = 'DWF160557.862'\n",
    "RAsex_to_RAdec(filename[3:13])"
   ]
  },
  {
   "cell_type": "code",
   "execution_count": null,
   "metadata": {},
   "outputs": [],
   "source": []
  }
 ],
 "metadata": {
  "kernelspec": {
   "display_name": "Python 2",
   "language": "python",
   "name": "python2"
  },
  "language_info": {
   "codemirror_mode": {
    "name": "ipython",
    "version": 2
   },
   "file_extension": ".py",
   "mimetype": "text/x-python",
   "name": "python",
   "nbconvert_exporter": "python",
   "pygments_lexer": "ipython2",
   "version": "2.7.15"
  }
 },
 "nbformat": 4,
 "nbformat_minor": 2
}
